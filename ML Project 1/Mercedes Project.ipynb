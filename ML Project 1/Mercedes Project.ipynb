{
 "cells": [
  {
   "cell_type": "markdown",
   "id": "a91a4fce",
   "metadata": {},
   "source": [
    "# Project 1 : Mercedes-Benz Greener Manufacturing"
   ]
  },
  {
   "cell_type": "code",
   "execution_count": 23,
   "id": "0e2ed6e8",
   "metadata": {},
   "outputs": [],
   "source": [
    "# Importing libraries....\n",
    "import numpy as np\n",
    "import pandas as pd\n",
    "import matplotlib.pyplot as plt\n",
    "import seaborn as sns\n",
    "import warnings\n",
    "warnings.filterwarnings('ignore')"
   ]
  },
  {
   "cell_type": "code",
   "execution_count": 24,
   "id": "899800e3",
   "metadata": {},
   "outputs": [
    {
     "name": "stdout",
     "output_type": "stream",
     "text": [
      "(4209, 378)\n",
      "(4209, 377)\n"
     ]
    }
   ],
   "source": [
    "#Importing Datasets....\n",
    "train_data = pd.read_csv(\"Train_Project1.csv\")\n",
    "test_data = pd.read_csv(\"Test_Project1.csv\")\n",
    "print(train_data.shape)\n",
    "print(test_data.shape)"
   ]
  },
  {
   "cell_type": "code",
   "execution_count": 25,
   "id": "81c68d4a",
   "metadata": {},
   "outputs": [
    {
     "name": "stdout",
     "output_type": "stream",
     "text": [
      "X0\n",
      "X1\n",
      "X2\n",
      "X3\n",
      "X4\n",
      "X5\n",
      "X6\n",
      "X8\n"
     ]
    }
   ],
   "source": [
    "for i in train_data.columns:\n",
    "    data_type = train_data[i].dtype\n",
    "    if data_type == 'object':\n",
    "        print(i)"
   ]
  },
  {
   "cell_type": "code",
   "execution_count": 26,
   "id": "b1f4730a",
   "metadata": {},
   "outputs": [
    {
     "name": "stdout",
     "output_type": "stream",
     "text": [
      "Name =  X11\n",
      "Name =  X93\n",
      "Name =  X107\n",
      "Name =  X233\n",
      "Name =  X235\n",
      "Name =  X268\n",
      "Name =  X289\n",
      "Name =  X290\n",
      "Name =  X293\n",
      "Name =  X297\n",
      "Name =  X330\n",
      "Name =  X347\n",
      "No of columns which has zero variance =  12\n"
     ]
    }
   ],
   "source": [
    "# If for any column(s), the variance is equal to zero, remove those variable(s).\n",
    "\n",
    "variance = pow(train_data.drop(columns={'ID','y'}).std(),2).to_dict()\n",
    "\n",
    "null_cnt = 0\n",
    "for key, value in variance.items():\n",
    "    if(value==0):\n",
    "        print('Name = ',key)\n",
    "        null_cnt = null_cnt+1\n",
    "print('No of columns which has zero variance = ',null_cnt)"
   ]
  },
  {
   "cell_type": "code",
   "execution_count": 27,
   "id": "89df32cf",
   "metadata": {},
   "outputs": [
    {
     "data": {
      "text/plain": [
       "(4209, 366)"
      ]
     },
     "execution_count": 27,
     "metadata": {},
     "output_type": "execute_result"
    }
   ],
   "source": [
    "train_data = train_data.drop(columns={'X11','X93','X107','X233','X235','X268','X289','X290','X293','X297','X330','X347'})\n",
    "train_data.shape"
   ]
  },
  {
   "cell_type": "code",
   "execution_count": 28,
   "id": "4dca5329",
   "metadata": {},
   "outputs": [
    {
     "data": {
      "text/plain": [
       "False"
      ]
     },
     "execution_count": 28,
     "metadata": {},
     "output_type": "execute_result"
    }
   ],
   "source": [
    "# Check for null and unique values for test and train sets..\n",
    "\n",
    "train_data.isnull().sum().any()"
   ]
  },
  {
   "cell_type": "code",
   "execution_count": 29,
   "id": "5f4ff27d",
   "metadata": {},
   "outputs": [],
   "source": [
    "# Apply label encoder..\n",
    "\n",
    "from sklearn.preprocessing import LabelEncoder\n",
    "le = LabelEncoder()"
   ]
  },
  {
   "cell_type": "code",
   "execution_count": 30,
   "id": "fd3b37bc",
   "metadata": {},
   "outputs": [
    {
     "name": "stdout",
     "output_type": "stream",
     "text": [
      "(4209, 364)\n",
      "(4209,)\n"
     ]
    }
   ],
   "source": [
    "train_data_feature = train_data.drop(columns={'y','ID'})\n",
    "train_data_target = train_data.y\n",
    "print(train_data_feature.shape)\n",
    "print(train_data_target.shape)"
   ]
  },
  {
   "cell_type": "code",
   "execution_count": 31,
   "id": "4d0d6f09",
   "metadata": {},
   "outputs": [
    {
     "data": {
      "text/html": [
       "<div>\n",
       "<style scoped>\n",
       "    .dataframe tbody tr th:only-of-type {\n",
       "        vertical-align: middle;\n",
       "    }\n",
       "\n",
       "    .dataframe tbody tr th {\n",
       "        vertical-align: top;\n",
       "    }\n",
       "\n",
       "    .dataframe thead th {\n",
       "        text-align: right;\n",
       "    }\n",
       "</style>\n",
       "<table border=\"1\" class=\"dataframe\">\n",
       "  <thead>\n",
       "    <tr style=\"text-align: right;\">\n",
       "      <th></th>\n",
       "      <th>X0</th>\n",
       "      <th>X1</th>\n",
       "      <th>X2</th>\n",
       "      <th>X3</th>\n",
       "      <th>X4</th>\n",
       "      <th>X5</th>\n",
       "      <th>X6</th>\n",
       "      <th>X8</th>\n",
       "    </tr>\n",
       "  </thead>\n",
       "  <tbody>\n",
       "    <tr>\n",
       "      <th>count</th>\n",
       "      <td>4209</td>\n",
       "      <td>4209</td>\n",
       "      <td>4209</td>\n",
       "      <td>4209</td>\n",
       "      <td>4209</td>\n",
       "      <td>4209</td>\n",
       "      <td>4209</td>\n",
       "      <td>4209</td>\n",
       "    </tr>\n",
       "    <tr>\n",
       "      <th>unique</th>\n",
       "      <td>47</td>\n",
       "      <td>27</td>\n",
       "      <td>44</td>\n",
       "      <td>7</td>\n",
       "      <td>4</td>\n",
       "      <td>29</td>\n",
       "      <td>12</td>\n",
       "      <td>25</td>\n",
       "    </tr>\n",
       "    <tr>\n",
       "      <th>top</th>\n",
       "      <td>z</td>\n",
       "      <td>aa</td>\n",
       "      <td>as</td>\n",
       "      <td>c</td>\n",
       "      <td>d</td>\n",
       "      <td>w</td>\n",
       "      <td>g</td>\n",
       "      <td>j</td>\n",
       "    </tr>\n",
       "    <tr>\n",
       "      <th>freq</th>\n",
       "      <td>360</td>\n",
       "      <td>833</td>\n",
       "      <td>1659</td>\n",
       "      <td>1942</td>\n",
       "      <td>4205</td>\n",
       "      <td>231</td>\n",
       "      <td>1042</td>\n",
       "      <td>277</td>\n",
       "    </tr>\n",
       "  </tbody>\n",
       "</table>\n",
       "</div>"
      ],
      "text/plain": [
       "          X0    X1    X2    X3    X4    X5    X6    X8\n",
       "count   4209  4209  4209  4209  4209  4209  4209  4209\n",
       "unique    47    27    44     7     4    29    12    25\n",
       "top        z    aa    as     c     d     w     g     j\n",
       "freq     360   833  1659  1942  4205   231  1042   277"
      ]
     },
     "execution_count": 31,
     "metadata": {},
     "output_type": "execute_result"
    }
   ],
   "source": [
    "train_data_feature.describe(include='object')"
   ]
  },
  {
   "cell_type": "code",
   "execution_count": 32,
   "id": "a81b19e5",
   "metadata": {},
   "outputs": [],
   "source": [
    "train_data_feature['X0'] = le.fit_transform(train_data_feature.X0)\n",
    "train_data_feature['X1'] = le.fit_transform(train_data_feature.X1)\n",
    "train_data_feature['X2'] = le.fit_transform(train_data_feature.X2)\n",
    "train_data_feature['X3'] = le.fit_transform(train_data_feature.X3)\n",
    "train_data_feature['X4'] = le.fit_transform(train_data_feature.X4)\n",
    "train_data_feature['X5'] = le.fit_transform(train_data_feature.X5)\n",
    "train_data_feature['X6'] = le.fit_transform(train_data_feature.X6)\n",
    "train_data_feature['X8'] = le.fit_transform(train_data_feature.X8)"
   ]
  },
  {
   "cell_type": "markdown",
   "id": "21c32177",
   "metadata": {},
   "source": [
    "# Perform dimensionality reduction"
   ]
  },
  {
   "cell_type": "code",
   "execution_count": 33,
   "id": "2e9b7f8e",
   "metadata": {},
   "outputs": [
    {
     "name": "stdout",
     "output_type": "stream",
     "text": [
      "(4209, 364)\n",
      "(4209,)\n"
     ]
    }
   ],
   "source": [
    "print(train_data_feature.shape)\n",
    "print(train_data_target.shape)"
   ]
  },
  {
   "cell_type": "code",
   "execution_count": 34,
   "id": "db4dc772",
   "metadata": {},
   "outputs": [],
   "source": [
    "from sklearn.decomposition import PCA\n",
    "pca = PCA(n_components=.95)"
   ]
  },
  {
   "cell_type": "code",
   "execution_count": 35,
   "id": "518918c3",
   "metadata": {},
   "outputs": [
    {
     "data": {
      "text/plain": [
       "PCA(n_components=0.95)"
      ]
     },
     "execution_count": 35,
     "metadata": {},
     "output_type": "execute_result"
    }
   ],
   "source": [
    "pca.fit(train_data_feature, train_data_target)"
   ]
  },
  {
   "cell_type": "code",
   "execution_count": 36,
   "id": "9794ecfe",
   "metadata": {},
   "outputs": [
    {
     "name": "stdout",
     "output_type": "stream",
     "text": [
      "(4209, 6)\n"
     ]
    }
   ],
   "source": [
    "train_data_feature_trans = pca.fit_transform(train_data_feature)\n",
    "print(train_data_feature_trans.shape)"
   ]
  },
  {
   "cell_type": "markdown",
   "id": "3aa832d6",
   "metadata": {},
   "source": [
    "# Predict your test_df values using XGBoost"
   ]
  },
  {
   "cell_type": "markdown",
   "id": "140ecd3d",
   "metadata": {},
   "source": [
    "# Building model using the train data set"
   ]
  },
  {
   "cell_type": "code",
   "execution_count": 37,
   "id": "3c9e7e2e",
   "metadata": {},
   "outputs": [],
   "source": [
    "import xgboost as xgb\n",
    "from sklearn.model_selection import train_test_split\n",
    "from sklearn.metrics import r2_score, mean_squared_error\n",
    "from math import sqrt"
   ]
  },
  {
   "cell_type": "code",
   "execution_count": 38,
   "id": "fe67a9cf",
   "metadata": {},
   "outputs": [
    {
     "name": "stdout",
     "output_type": "stream",
     "text": [
      "(2946, 6)\n",
      "(2946,)\n",
      "(1263, 6)\n",
      "(1263,)\n"
     ]
    }
   ],
   "source": [
    "train_x,test_x,train_y,test_y = train_test_split(train_data_feature_trans,train_data_target,test_size=.3,random_state=7)\n",
    "print(train_x.shape)\n",
    "print(train_y.shape)\n",
    "print(test_x.shape)\n",
    "print(test_y.shape)"
   ]
  },
  {
   "cell_type": "markdown",
   "id": "20ac2ca6",
   "metadata": {},
   "source": [
    "# XGBoost's hyperparameters tuning manually"
   ]
  },
  {
   "cell_type": "code",
   "execution_count": 39,
   "id": "7769501d",
   "metadata": {},
   "outputs": [
    {
     "name": "stdout",
     "output_type": "stream",
     "text": [
      "[13:28:37] WARNING: C:/Users/administrator/workspace/xgboost-win64_release_1.6.0/src/objective/regression_obj.cu:203: reg:linear is now deprecated in favor of reg:squarederror.\n",
      "RMSE =  12.288794806074309\n"
     ]
    }
   ],
   "source": [
    "xgb_reg = xgb.XGBRegressor(objective ='reg:linear', colsample_bytree = 0.3, learning_rate = 0.4, max_depth = 10, alpha = 6, \n",
    "                           n_estimators = 20)\n",
    "model = xgb_reg.fit(train_x,train_y)\n",
    "print('RMSE = ',sqrt(mean_squared_error(model.predict(test_x),test_y)))"
   ]
  },
  {
   "cell_type": "markdown",
   "id": "1ae4e32f",
   "metadata": {},
   "source": [
    "After tuning the hyperparameters to meet minimum RMSE, RMSE turned out as 12.29"
   ]
  },
  {
   "cell_type": "code",
   "execution_count": 40,
   "id": "783ff987",
   "metadata": {},
   "outputs": [
    {
     "data": {
      "image/png": "[encoded data removed]",
      "text/plain": [
       "<Figure size 720x360 with 1 Axes>"
      ]
     },
     "metadata": {
      "needs_background": "light"
     },
     "output_type": "display_data"
    }
   ],
   "source": [
    "pred_test_y = model.predict(test_x)\n",
    "\n",
    "plt.figure(figsize=(10,5))\n",
    "\n",
    "sns.distplot(test_y[test_y<160], color=\"Green\", label=\"Actual value\")\n",
    "sns.distplot(pred_test_y[pred_test_y<160] , color=\"purple\", label=\"Predicted value\")\n",
    "plt.legend()\n",
    "\n",
    "plt.tight_layout()"
   ]
  },
  {
   "cell_type": "markdown",
   "id": "f75dea9d",
   "metadata": {},
   "source": [
    "# k-fold Cross Validation using XGBoost"
   ]
  },
  {
   "cell_type": "code",
   "execution_count": 41,
   "id": "64fbea56",
   "metadata": {},
   "outputs": [
    {
     "name": "stdout",
     "output_type": "stream",
     "text": [
      "[13:28:42] WARNING: C:/Users/administrator/workspace/xgboost-win64_release_1.6.0/src/objective/regression_obj.cu:203: reg:linear is now deprecated in favor of reg:squarederror.\n",
      "[13:28:42] WARNING: C:/Users/administrator/workspace/xgboost-win64_release_1.6.0/src/objective/regression_obj.cu:203: reg:linear is now deprecated in favor of reg:squarederror.\n",
      "[13:28:42] WARNING: C:/Users/administrator/workspace/xgboost-win64_release_1.6.0/src/objective/regression_obj.cu:203: reg:linear is now deprecated in favor of reg:squarederror.\n"
     ]
    },
    {
     "data": {
      "text/html": [
       "<div>\n",
       "<style scoped>\n",
       "    .dataframe tbody tr th:only-of-type {\n",
       "        vertical-align: middle;\n",
       "    }\n",
       "\n",
       "    .dataframe tbody tr th {\n",
       "        vertical-align: top;\n",
       "    }\n",
       "\n",
       "    .dataframe thead th {\n",
       "        text-align: right;\n",
       "    }\n",
       "</style>\n",
       "<table border=\"1\" class=\"dataframe\">\n",
       "  <thead>\n",
       "    <tr style=\"text-align: right;\">\n",
       "      <th></th>\n",
       "      <th>train-rmse-mean</th>\n",
       "      <th>train-rmse-std</th>\n",
       "      <th>test-rmse-mean</th>\n",
       "      <th>test-rmse-std</th>\n",
       "    </tr>\n",
       "  </thead>\n",
       "  <tbody>\n",
       "    <tr>\n",
       "      <th>31</th>\n",
       "      <td>8.935207</td>\n",
       "      <td>0.183408</td>\n",
       "      <td>11.060047</td>\n",
       "      <td>0.736219</td>\n",
       "    </tr>\n",
       "    <tr>\n",
       "      <th>32</th>\n",
       "      <td>8.880285</td>\n",
       "      <td>0.174860</td>\n",
       "      <td>11.044372</td>\n",
       "      <td>0.740167</td>\n",
       "    </tr>\n",
       "    <tr>\n",
       "      <th>33</th>\n",
       "      <td>8.849045</td>\n",
       "      <td>0.185327</td>\n",
       "      <td>11.049080</td>\n",
       "      <td>0.738351</td>\n",
       "    </tr>\n",
       "    <tr>\n",
       "      <th>34</th>\n",
       "      <td>8.792400</td>\n",
       "      <td>0.202135</td>\n",
       "      <td>11.043289</td>\n",
       "      <td>0.728256</td>\n",
       "    </tr>\n",
       "  </tbody>\n",
       "</table>\n",
       "</div>"
      ],
      "text/plain": [
       "    train-rmse-mean  train-rmse-std  test-rmse-mean  test-rmse-std\n",
       "31         8.935207        0.183408       11.060047       0.736219\n",
       "32         8.880285        0.174860       11.044372       0.740167\n",
       "33         8.849045        0.185327       11.049080       0.738351\n",
       "34         8.792400        0.202135       11.043289       0.728256"
      ]
     },
     "execution_count": 41,
     "metadata": {},
     "output_type": "execute_result"
    }
   ],
   "source": [
    "dmatrix_train = xgb.DMatrix(data=train_data_feature_trans,label=train_data_target)\n",
    "\n",
    "params = {'objective':'reg:linear', 'colsample_bytree': 0.3, 'learning_rate': 0.3, 'max_depth': 5, 'alpha': 10}\n",
    "\n",
    "model_cv = xgb.cv(dtrain=dmatrix_train, params=params, nfold=3, num_boost_round=50, early_stopping_rounds=10, \n",
    "                      metrics=\"rmse\", as_pandas=True, seed=7)\n",
    "model_cv.tail(4)"
   ]
  },
  {
   "cell_type": "markdown",
   "id": "7b372b65",
   "metadata": {},
   "source": [
    " However, using k-fold cross validation, RMSE comes as 11.04. So the RMSE reduced by ~ 10%"
   ]
  },
  {
   "cell_type": "markdown",
   "id": "63f7b1d2",
   "metadata": {},
   "source": [
    "# Prediction on test data set using XGBoost"
   ]
  },
  {
   "cell_type": "markdown",
   "id": "850c13d0",
   "metadata": {},
   "source": [
    "Preparing test data set."
   ]
  },
  {
   "cell_type": "code",
   "execution_count": 42,
   "id": "5fdfc372",
   "metadata": {},
   "outputs": [
    {
     "data": {
      "text/plain": [
       "(4209, 365)"
      ]
     },
     "execution_count": 42,
     "metadata": {},
     "output_type": "execute_result"
    }
   ],
   "source": [
    "test_data = test_data.drop(columns={'X11','X93','X107','X233','X235','X268','X289','X290','X293','X297','X330','X347'})\n",
    "test_data.shape"
   ]
  },
  {
   "cell_type": "code",
   "execution_count": 43,
   "id": "2aa71868",
   "metadata": {},
   "outputs": [
    {
     "data": {
      "text/plain": [
       "False"
      ]
     },
     "execution_count": 43,
     "metadata": {},
     "output_type": "execute_result"
    }
   ],
   "source": [
    "test_data.isnull().sum().any()"
   ]
  },
  {
   "cell_type": "code",
   "execution_count": 44,
   "id": "b48eedf7",
   "metadata": {},
   "outputs": [
    {
     "name": "stdout",
     "output_type": "stream",
     "text": [
      "(4209, 364)\n"
     ]
    }
   ],
   "source": [
    "test_data_feature = test_data.drop(columns={'ID'})\n",
    "print(test_data_feature.shape)"
   ]
  },
  {
   "cell_type": "code",
   "execution_count": 45,
   "id": "5eac9e96",
   "metadata": {},
   "outputs": [
    {
     "data": {
      "text/html": [
       "<div>\n",
       "<style scoped>\n",
       "    .dataframe tbody tr th:only-of-type {\n",
       "        vertical-align: middle;\n",
       "    }\n",
       "\n",
       "    .dataframe tbody tr th {\n",
       "        vertical-align: top;\n",
       "    }\n",
       "\n",
       "    .dataframe thead th {\n",
       "        text-align: right;\n",
       "    }\n",
       "</style>\n",
       "<table border=\"1\" class=\"dataframe\">\n",
       "  <thead>\n",
       "    <tr style=\"text-align: right;\">\n",
       "      <th></th>\n",
       "      <th>X0</th>\n",
       "      <th>X1</th>\n",
       "      <th>X2</th>\n",
       "      <th>X3</th>\n",
       "      <th>X4</th>\n",
       "      <th>X5</th>\n",
       "      <th>X6</th>\n",
       "      <th>X8</th>\n",
       "    </tr>\n",
       "  </thead>\n",
       "  <tbody>\n",
       "    <tr>\n",
       "      <th>count</th>\n",
       "      <td>4209</td>\n",
       "      <td>4209</td>\n",
       "      <td>4209</td>\n",
       "      <td>4209</td>\n",
       "      <td>4209</td>\n",
       "      <td>4209</td>\n",
       "      <td>4209</td>\n",
       "      <td>4209</td>\n",
       "    </tr>\n",
       "    <tr>\n",
       "      <th>unique</th>\n",
       "      <td>49</td>\n",
       "      <td>27</td>\n",
       "      <td>45</td>\n",
       "      <td>7</td>\n",
       "      <td>4</td>\n",
       "      <td>32</td>\n",
       "      <td>12</td>\n",
       "      <td>25</td>\n",
       "    </tr>\n",
       "    <tr>\n",
       "      <th>top</th>\n",
       "      <td>ak</td>\n",
       "      <td>aa</td>\n",
       "      <td>as</td>\n",
       "      <td>c</td>\n",
       "      <td>d</td>\n",
       "      <td>v</td>\n",
       "      <td>g</td>\n",
       "      <td>e</td>\n",
       "    </tr>\n",
       "    <tr>\n",
       "      <th>freq</th>\n",
       "      <td>432</td>\n",
       "      <td>826</td>\n",
       "      <td>1658</td>\n",
       "      <td>1900</td>\n",
       "      <td>4203</td>\n",
       "      <td>246</td>\n",
       "      <td>1073</td>\n",
       "      <td>274</td>\n",
       "    </tr>\n",
       "  </tbody>\n",
       "</table>\n",
       "</div>"
      ],
      "text/plain": [
       "          X0    X1    X2    X3    X4    X5    X6    X8\n",
       "count   4209  4209  4209  4209  4209  4209  4209  4209\n",
       "unique    49    27    45     7     4    32    12    25\n",
       "top       ak    aa    as     c     d     v     g     e\n",
       "freq     432   826  1658  1900  4203   246  1073   274"
      ]
     },
     "execution_count": 45,
     "metadata": {},
     "output_type": "execute_result"
    }
   ],
   "source": [
    "test_data_feature.describe(include='object')"
   ]
  },
  {
   "cell_type": "code",
   "execution_count": 46,
   "id": "2f7c5d77",
   "metadata": {},
   "outputs": [],
   "source": [
    "test_data_feature['X0'] = le.fit_transform(test_data_feature.X0)\n",
    "test_data_feature['X1'] = le.fit_transform(test_data_feature.X1)\n",
    "test_data_feature['X2'] = le.fit_transform(test_data_feature.X2)\n",
    "test_data_feature['X3'] = le.fit_transform(test_data_feature.X3)\n",
    "test_data_feature['X4'] = le.fit_transform(test_data_feature.X4)\n",
    "test_data_feature['X5'] = le.fit_transform(test_data_feature.X5)\n",
    "test_data_feature['X6'] = le.fit_transform(test_data_feature.X6)\n",
    "test_data_feature['X8'] = le.fit_transform(test_data_feature.X8)"
   ]
  },
  {
   "cell_type": "code",
   "execution_count": 47,
   "id": "5310ef86",
   "metadata": {},
   "outputs": [
    {
     "data": {
      "text/plain": [
       "PCA(n_components=0.95)"
      ]
     },
     "execution_count": 47,
     "metadata": {},
     "output_type": "execute_result"
    }
   ],
   "source": [
    "pca.fit(test_data_feature)"
   ]
  },
  {
   "cell_type": "code",
   "execution_count": 48,
   "id": "6fb935c2",
   "metadata": {},
   "outputs": [
    {
     "name": "stdout",
     "output_type": "stream",
     "text": [
      "(4209, 6)\n"
     ]
    }
   ],
   "source": [
    "test_data_feature_trans = pca.fit_transform(test_data_feature)\n",
    "print(test_data_feature_trans.shape)"
   ]
  },
  {
   "cell_type": "code",
   "execution_count": 49,
   "id": "9e1cdbf6",
   "metadata": {},
   "outputs": [
    {
     "data": {
      "text/plain": [
       "array([ 86.12015 ,  92.929794,  98.74635 , ...,  92.836525, 118.76457 ,\n",
       "        98.46741 ], dtype=float32)"
      ]
     },
     "execution_count": 49,
     "metadata": {},
     "output_type": "execute_result"
    }
   ],
   "source": [
    "test_pred = model.predict(test_data_feature_trans)\n",
    "test_pred"
   ]
  },
  {
   "cell_type": "code",
   "execution_count": 50,
   "id": "c8a0c354",
   "metadata": {},
   "outputs": [
    {
     "data": {
      "image/png": "[encoded data removed]",
      "text/plain": [
       "<Figure size 1008x360 with 2 Axes>"
      ]
     },
     "metadata": {
      "needs_background": "light"
     },
     "output_type": "display_data"
    }
   ],
   "source": [
    "fig, ax = plt.subplots(1,2, figsize=(14,5))\n",
    "\n",
    "train_plot = sns.distplot(train_data_target[train_data_target<200], bins=100, kde=True, ax=ax[0])\n",
    "train_plot.set_xlabel('Target(train_data)', weight='bold', size=15)\n",
    "train_plot.set_ylabel('Distribution', weight='bold', size=15)\n",
    "train_plot.set_title(' Dist. of target for train data', weight='bold', size=15)\n",
    "\n",
    "test_plot = sns.distplot(test_pred[test_pred<200], bins=100, kde=True, ax=ax[1])\n",
    "test_plot.set_xlabel('Target(test_data)', weight='bold', size=15)\n",
    "test_plot.set_ylabel('Distribution', weight='bold', size=15)\n",
    "test_plot.set_title(' Dist. of target for test data', weight='bold', size=15)\n",
    "\n",
    "plt.tight_layout()"
   ]
  },
  {
   "cell_type": "markdown",
   "id": "c39ca61a",
   "metadata": {},
   "source": [
    "This is a pictorial view for comparison between the target for training data-set and predicted target for testing data-set."
   ]
  }
 ],
 "metadata": {
  "kernelspec": {
   "display_name": "Python 3 (ipykernel)",
   "language": "python",
   "name": "python3"
  },
  "language_info": {
   "codemirror_mode": {
    "name": "ipython",
    "version": 3
   },
   "file_extension": ".py",
   "mimetype": "text/x-python",
   "name": "python",
   "nbconvert_exporter": "python",
   "pygments_lexer": "ipython3",
   "version": "3.9.12"
  }
 },
 "nbformat": 4,
 "nbformat_minor": 5
}
